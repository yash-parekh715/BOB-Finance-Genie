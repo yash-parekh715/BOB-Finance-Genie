{
 "cells": [
  {
   "cell_type": "code",
   "execution_count": 1,
   "id": "b351427a-f37a-4f22-bb76-18e5289e4714",
   "metadata": {},
   "outputs": [],
   "source": [
    "import pandas as pd\n",
    "from transformers import AutoTokenizer, AutoModelForCausalLM, Trainer, TrainingArguments\n",
    "from torch.utils.data import Dataset"
   ]
  },
  {
   "cell_type": "code",
   "execution_count": 2,
   "id": "990e1c9c-f065-4063-a3bc-0fa90a281066",
   "metadata": {},
   "outputs": [],
   "source": [
    "data = pd.read_csv('Finance_data.csv')"
   ]
  },
  {
   "cell_type": "code",
   "execution_count": 3,
   "id": "42563890-19f8-4c40-9761-ee35c4a544ad",
   "metadata": {},
   "outputs": [],
   "source": [
    "data.dropna(subset=['What are your savings objectives?', 'Avenue'], inplace=True)"
   ]
  },
  {
   "cell_type": "code",
   "execution_count": 4,
   "id": "0c6cf2bc-76aa-4717-8c02-4f39c64a51fd",
   "metadata": {},
   "outputs": [],
   "source": [
    "data['input_text'] = data['What are your savings objectives?'].str.lower().str.strip()\n",
    "data['output_text'] = data['Avenue'].str.lower().str.strip()"
   ]
  },
  {
   "cell_type": "code",
   "execution_count": 5,
   "id": "9194a87c-490f-4288-8bf5-fd4907f5e374",
   "metadata": {},
   "outputs": [],
   "source": [
    "data = data[data['input_text'].str.strip() != '']\n",
    "data = data[data['output_text'].str.strip() != '']\n",
    "data.drop_duplicates(subset=['input_text', 'output_text'], inplace=True)"
   ]
  },
  {
   "cell_type": "code",
   "execution_count": 6,
   "id": "52d91c0e-5b54-4ec4-9607-a3922666631e",
   "metadata": {},
   "outputs": [],
   "source": [
    "tokenizer = AutoTokenizer.from_pretrained('tiiuae/falcon-7b')"
   ]
  },
  {
   "cell_type": "code",
   "execution_count": 7,
   "id": "2c2e61fc-2164-4465-9e6b-3428cb61b591",
   "metadata": {},
   "outputs": [],
   "source": [
    "tokenizer.pad_token = tokenizer.eos_token"
   ]
  },
  {
   "cell_type": "code",
   "execution_count": 8,
   "id": "7ee5e8c5-5728-4689-a96d-342ba9675c08",
   "metadata": {},
   "outputs": [],
   "source": [
    "def tokenize_data(data):\n",
    "    return tokenizer(\n",
    "        list(data['input_text']),\n",
    "        padding='max_length',\n",
    "        truncation=True,\n",
    "        return_tensors='pt',\n",
    "        max_length=128  # Set maximum length for tokens\n",
    "    ), tokenizer(\n",
    "        list(data['output_text']),\n",
    "        padding='max_length',\n",
    "        truncation=True,\n",
    "        return_tensors='pt',\n",
    "        max_length=128\n",
    "    )"
   ]
  },
  {
   "cell_type": "code",
   "execution_count": 9,
   "id": "7f42a1c4-7fb0-4588-a859-807050aa36f7",
   "metadata": {},
   "outputs": [],
   "source": [
    "train_encodings, train_labels = tokenize_data(data)"
   ]
  },
  {
   "cell_type": "code",
   "execution_count": 10,
   "id": "dff3197b-f409-4e17-8976-9f063b41ce9a",
   "metadata": {},
   "outputs": [],
   "source": [
    "class FinancialAdviceDataset(Dataset):\n",
    "    def __init__(self, encodings, labels):\n",
    "        self.encodings = encodings\n",
    "        self.labels = labels\n",
    "\n",
    "    def __getitem__(self, idx):\n",
    "        # Return input and label tensors\n",
    "        item = {key: val[idx] for key, val in self.encodings.items()}\n",
    "        item['labels'] = self.labels['input_ids'][idx]\n",
    "        return item\n",
    "\n",
    "    def __len__(self):\n",
    "        return len(self.encodings.input_ids)"
   ]
  },
  {
   "cell_type": "code",
   "execution_count": 11,
   "id": "f8ab5bd4-c615-48b4-b2f7-4642de24def8",
   "metadata": {},
   "outputs": [],
   "source": [
    "train_dataset = FinancialAdviceDataset(train_encodings, train_labels)"
   ]
  },
  {
   "cell_type": "code",
   "execution_count": null,
   "id": "c19c8557-3bac-4417-a2a5-7f3692e075c5",
   "metadata": {},
   "outputs": [],
   "source": [
    "model = AutoModelForCausalLM.from_pretrained('tiiuae/falcon-7b')"
   ]
  },
  {
   "cell_type": "code",
   "execution_count": null,
   "id": "25b4b5f2-3a36-4d6b-9437-f0a78bb0b9d3",
   "metadata": {},
   "outputs": [],
   "source": []
  }
 ],
 "metadata": {
  "kernelspec": {
   "display_name": "Python 3 (ipykernel)",
   "language": "python",
   "name": "python3"
  },
  "language_info": {
   "codemirror_mode": {
    "name": "ipython",
    "version": 3
   },
   "file_extension": ".py",
   "mimetype": "text/x-python",
   "name": "python",
   "nbconvert_exporter": "python",
   "pygments_lexer": "ipython3",
   "version": "3.11.9"
  }
 },
 "nbformat": 4,
 "nbformat_minor": 5
}
